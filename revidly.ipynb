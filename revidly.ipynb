{
  "nbformat": 4,
  "nbformat_minor": 0,
  "metadata": {
    "colab": {
      "name": "revidly.ipynb",
      "provenance": [],
      "authorship_tag": "ABX9TyN2MQzQh06DcX8mk1x9jdm7",
      "include_colab_link": true
    },
    "kernelspec": {
      "name": "python3",
      "display_name": "Python 3"
    }
  },
  "cells": [
    {
      "cell_type": "markdown",
      "metadata": {
        "id": "view-in-github",
        "colab_type": "text"
      },
      "source": [
        "<a href=\"https://colab.research.google.com/github/deepanshudaw/Revidly-Post-Reco/blob/master/revidly.ipynb\" target=\"_parent\"><img src=\"https://colab.research.google.com/assets/colab-badge.svg\" alt=\"Open In Colab\"/></a>"
      ]
    },
    {
      "cell_type": "markdown",
      "metadata": {
        "id": "pOejwiZQUG3c",
        "colab_type": "text"
      },
      "source": [
        "#Useful Imports\n"
      ]
    },
    {
      "cell_type": "code",
      "metadata": {
        "id": "3x3nu_YjIjN9",
        "colab_type": "code",
        "colab": {}
      },
      "source": [
        "import pandas as pd\n",
        "import numpy as np\n",
        "from sklearn.metrics.pairwise import pairwise_distances "
      ],
      "execution_count": 0,
      "outputs": []
    },
    {
      "cell_type": "markdown",
      "metadata": {
        "id": "aR0MON0jUNsw",
        "colab_type": "text"
      },
      "source": [
        "#Recommender System"
      ]
    },
    {
      "cell_type": "code",
      "metadata": {
        "id": "cGycCTCrJ3zn",
        "colab_type": "code",
        "colab": {}
      },
      "source": [
        "user=pd.read_excel(r\"/content/revid.xlsx\",sheet_name='USER')"
      ],
      "execution_count": 0,
      "outputs": []
    },
    {
      "cell_type": "markdown",
      "metadata": {
        "id": "KSfmPm5BWt85",
        "colab_type": "text"
      },
      "source": [
        "##Data"
      ]
    },
    {
      "cell_type": "markdown",
      "metadata": {
        "id": "ePOYeFFrUT2X",
        "colab_type": "text"
      },
      "source": [
        "The data is described below. It consist of data of 100 users each interacting with 100 posts. There are total of 1000 posts.\n",
        "\n",
        "\n",
        "> The columns represent the following:\n",
        "\n",
        "\n",
        "1.   userID : The unique ID provided to user to identify the, uniquely.\n",
        "2.   postID : Unique ID provided to every post. The postID refers to the post which was seen by the user. Every user has seen 100 random posts out of 1000.\n",
        "3. vote : +1 represents upvote, -1 represents downvote , 0 represents no vote.\n",
        "4. t_spent : It denotes the time spent by the user on given post. (scaled to factor of 1)\n",
        "5. shrd : 1 represents that the user has shared the post, 0 represents he hasn't.\n",
        "6. comm : 1 represents that the user has commented on the post, 0 represents he hasn't.\n",
        "7. score : This column is left empty. The score will give the extent to which the user has liked the post. This will be calculated in upcoming stages.\n",
        "\n",
        "\n",
        "\n"
      ]
    },
    {
      "cell_type": "code",
      "metadata": {
        "id": "m6SPgCOVKRxt",
        "colab_type": "code",
        "outputId": "a6b71be6-013e-47da-d42f-7ab723bda2bb",
        "colab": {
          "base_uri": "https://localhost:8080/",
          "height": 284
        }
      },
      "source": [
        "no_user = user.userID.unique().shape[0]\n",
        "no_post = user.postID.unique().shape[0]\n",
        "user.describe()"
      ],
      "execution_count": 5,
      "outputs": [
        {
          "output_type": "execute_result",
          "data": {
            "text/html": [
              "<div>\n",
              "<style scoped>\n",
              "    .dataframe tbody tr th:only-of-type {\n",
              "        vertical-align: middle;\n",
              "    }\n",
              "\n",
              "    .dataframe tbody tr th {\n",
              "        vertical-align: top;\n",
              "    }\n",
              "\n",
              "    .dataframe thead th {\n",
              "        text-align: right;\n",
              "    }\n",
              "</style>\n",
              "<table border=\"1\" class=\"dataframe\">\n",
              "  <thead>\n",
              "    <tr style=\"text-align: right;\">\n",
              "      <th></th>\n",
              "      <th>userID</th>\n",
              "      <th>postID</th>\n",
              "      <th>vote</th>\n",
              "      <th>t_spent</th>\n",
              "      <th>shrd</th>\n",
              "      <th>comm</th>\n",
              "      <th>score</th>\n",
              "    </tr>\n",
              "  </thead>\n",
              "  <tbody>\n",
              "    <tr>\n",
              "      <th>count</th>\n",
              "      <td>10000.000000</td>\n",
              "      <td>10000.000000</td>\n",
              "      <td>10000.00000</td>\n",
              "      <td>10000.000000</td>\n",
              "      <td>10000.000000</td>\n",
              "      <td>10000.000000</td>\n",
              "      <td>0.0</td>\n",
              "    </tr>\n",
              "    <tr>\n",
              "      <th>mean</th>\n",
              "      <td>50.500000</td>\n",
              "      <td>505.586200</td>\n",
              "      <td>0.00460</td>\n",
              "      <td>0.507173</td>\n",
              "      <td>0.501000</td>\n",
              "      <td>0.504000</td>\n",
              "      <td>NaN</td>\n",
              "    </tr>\n",
              "    <tr>\n",
              "      <th>std</th>\n",
              "      <td>28.867513</td>\n",
              "      <td>289.825601</td>\n",
              "      <td>0.81893</td>\n",
              "      <td>0.288886</td>\n",
              "      <td>0.500024</td>\n",
              "      <td>0.500009</td>\n",
              "      <td>NaN</td>\n",
              "    </tr>\n",
              "    <tr>\n",
              "      <th>min</th>\n",
              "      <td>1.000000</td>\n",
              "      <td>1.000000</td>\n",
              "      <td>-1.00000</td>\n",
              "      <td>0.000068</td>\n",
              "      <td>0.000000</td>\n",
              "      <td>0.000000</td>\n",
              "      <td>NaN</td>\n",
              "    </tr>\n",
              "    <tr>\n",
              "      <th>25%</th>\n",
              "      <td>25.750000</td>\n",
              "      <td>257.000000</td>\n",
              "      <td>-1.00000</td>\n",
              "      <td>0.260805</td>\n",
              "      <td>0.000000</td>\n",
              "      <td>0.000000</td>\n",
              "      <td>NaN</td>\n",
              "    </tr>\n",
              "    <tr>\n",
              "      <th>50%</th>\n",
              "      <td>50.500000</td>\n",
              "      <td>510.000000</td>\n",
              "      <td>0.00000</td>\n",
              "      <td>0.508960</td>\n",
              "      <td>1.000000</td>\n",
              "      <td>1.000000</td>\n",
              "      <td>NaN</td>\n",
              "    </tr>\n",
              "    <tr>\n",
              "      <th>75%</th>\n",
              "      <td>75.250000</td>\n",
              "      <td>760.000000</td>\n",
              "      <td>1.00000</td>\n",
              "      <td>0.760199</td>\n",
              "      <td>1.000000</td>\n",
              "      <td>1.000000</td>\n",
              "      <td>NaN</td>\n",
              "    </tr>\n",
              "    <tr>\n",
              "      <th>max</th>\n",
              "      <td>100.000000</td>\n",
              "      <td>1000.000000</td>\n",
              "      <td>1.00000</td>\n",
              "      <td>0.999993</td>\n",
              "      <td>1.000000</td>\n",
              "      <td>1.000000</td>\n",
              "      <td>NaN</td>\n",
              "    </tr>\n",
              "  </tbody>\n",
              "</table>\n",
              "</div>"
            ],
            "text/plain": [
              "             userID        postID  ...          comm  score\n",
              "count  10000.000000  10000.000000  ...  10000.000000    0.0\n",
              "mean      50.500000    505.586200  ...      0.504000    NaN\n",
              "std       28.867513    289.825601  ...      0.500009    NaN\n",
              "min        1.000000      1.000000  ...      0.000000    NaN\n",
              "25%       25.750000    257.000000  ...      0.000000    NaN\n",
              "50%       50.500000    510.000000  ...      1.000000    NaN\n",
              "75%       75.250000    760.000000  ...      1.000000    NaN\n",
              "max      100.000000   1000.000000  ...      1.000000    NaN\n",
              "\n",
              "[8 rows x 7 columns]"
            ]
          },
          "metadata": {
            "tags": []
          },
          "execution_count": 5
        }
      ]
    },
    {
      "cell_type": "markdown",
      "metadata": {
        "id": "9-r-FOxlWela",
        "colab_type": "text"
      },
      "source": [
        "Score Formula\n",
        "\n",
        "---\n",
        "The score represents the measure of the user liking the particular post.\n",
        "I've scaled all the factors to 1 to make the distribution even.\n",
        "> The weightage of every feature is determined as:\n",
        "\n",
        "\n",
        "1.   Vote is the most decisive factor which decides that user liked the post or not. So i've given it 0.5 weightage. In this way if the user downvotes the post it will be a negative 0.5 to the score and the score will remain negative. \n",
        "2.   t_spent holds more value than commenting and sharing the post so I gave it a rating of 0.3\n",
        "3. shared and commented gets weightage of 0.1 .\n",
        "\n",
        "I also wanted to include one more feature namely post_value which will describe how the post performed on all the users. This feature will take be calculated on the basis of total upvotes, downvotes, comments and total views on the post. In this way if the post performed well on others it can be supposed that it will be liked by the user also. I made another dataset (post) in my excel worksheet to calculate this.\n",
        "\n",
        "But including this will bias the posts on the basis of global result more and may damage our purpose if recommending what the user likes personally.\n",
        "hence I didn't include that feature in the model.\n",
        "\n",
        "\n",
        "\n",
        "\n"
      ]
    },
    {
      "cell_type": "code",
      "metadata": {
        "id": "4GBLOxoeKYJz",
        "colab_type": "code",
        "colab": {}
      },
      "source": [
        "user['score'] = (user['vote'] * 0.5 ) + (user['t_spent'] *0.3) + (user['shrd']*0.1) + (user['comm']*0.1)"
      ],
      "execution_count": 0,
      "outputs": []
    },
    {
      "cell_type": "code",
      "metadata": {
        "id": "MY9D9bEyLP3H",
        "colab_type": "code",
        "outputId": "47f66eb8-6526-4142-a44f-b3d1671546ea",
        "colab": {
          "base_uri": "https://localhost:8080/",
          "height": 343
        }
      },
      "source": [
        "user.head(10)"
      ],
      "execution_count": 7,
      "outputs": [
        {
          "output_type": "execute_result",
          "data": {
            "text/html": [
              "<div>\n",
              "<style scoped>\n",
              "    .dataframe tbody tr th:only-of-type {\n",
              "        vertical-align: middle;\n",
              "    }\n",
              "\n",
              "    .dataframe tbody tr th {\n",
              "        vertical-align: top;\n",
              "    }\n",
              "\n",
              "    .dataframe thead th {\n",
              "        text-align: right;\n",
              "    }\n",
              "</style>\n",
              "<table border=\"1\" class=\"dataframe\">\n",
              "  <thead>\n",
              "    <tr style=\"text-align: right;\">\n",
              "      <th></th>\n",
              "      <th>userID</th>\n",
              "      <th>postID</th>\n",
              "      <th>vote</th>\n",
              "      <th>t_spent</th>\n",
              "      <th>shrd</th>\n",
              "      <th>comm</th>\n",
              "      <th>score</th>\n",
              "    </tr>\n",
              "  </thead>\n",
              "  <tbody>\n",
              "    <tr>\n",
              "      <th>0</th>\n",
              "      <td>1</td>\n",
              "      <td>337</td>\n",
              "      <td>-1</td>\n",
              "      <td>0.680855</td>\n",
              "      <td>0</td>\n",
              "      <td>1</td>\n",
              "      <td>-0.195744</td>\n",
              "    </tr>\n",
              "    <tr>\n",
              "      <th>1</th>\n",
              "      <td>1</td>\n",
              "      <td>787</td>\n",
              "      <td>-1</td>\n",
              "      <td>0.721710</td>\n",
              "      <td>1</td>\n",
              "      <td>1</td>\n",
              "      <td>-0.083487</td>\n",
              "    </tr>\n",
              "    <tr>\n",
              "      <th>2</th>\n",
              "      <td>1</td>\n",
              "      <td>116</td>\n",
              "      <td>-1</td>\n",
              "      <td>0.762514</td>\n",
              "      <td>1</td>\n",
              "      <td>0</td>\n",
              "      <td>-0.171246</td>\n",
              "    </tr>\n",
              "    <tr>\n",
              "      <th>3</th>\n",
              "      <td>1</td>\n",
              "      <td>592</td>\n",
              "      <td>-1</td>\n",
              "      <td>0.322370</td>\n",
              "      <td>0</td>\n",
              "      <td>1</td>\n",
              "      <td>-0.303289</td>\n",
              "    </tr>\n",
              "    <tr>\n",
              "      <th>4</th>\n",
              "      <td>1</td>\n",
              "      <td>621</td>\n",
              "      <td>1</td>\n",
              "      <td>0.173896</td>\n",
              "      <td>1</td>\n",
              "      <td>0</td>\n",
              "      <td>0.652169</td>\n",
              "    </tr>\n",
              "    <tr>\n",
              "      <th>5</th>\n",
              "      <td>1</td>\n",
              "      <td>191</td>\n",
              "      <td>1</td>\n",
              "      <td>0.654372</td>\n",
              "      <td>0</td>\n",
              "      <td>0</td>\n",
              "      <td>0.696312</td>\n",
              "    </tr>\n",
              "    <tr>\n",
              "      <th>6</th>\n",
              "      <td>1</td>\n",
              "      <td>714</td>\n",
              "      <td>0</td>\n",
              "      <td>0.143644</td>\n",
              "      <td>1</td>\n",
              "      <td>1</td>\n",
              "      <td>0.243093</td>\n",
              "    </tr>\n",
              "    <tr>\n",
              "      <th>7</th>\n",
              "      <td>1</td>\n",
              "      <td>883</td>\n",
              "      <td>0</td>\n",
              "      <td>0.972166</td>\n",
              "      <td>1</td>\n",
              "      <td>0</td>\n",
              "      <td>0.391650</td>\n",
              "    </tr>\n",
              "    <tr>\n",
              "      <th>8</th>\n",
              "      <td>1</td>\n",
              "      <td>143</td>\n",
              "      <td>0</td>\n",
              "      <td>0.509148</td>\n",
              "      <td>1</td>\n",
              "      <td>1</td>\n",
              "      <td>0.352744</td>\n",
              "    </tr>\n",
              "    <tr>\n",
              "      <th>9</th>\n",
              "      <td>1</td>\n",
              "      <td>354</td>\n",
              "      <td>-1</td>\n",
              "      <td>0.126354</td>\n",
              "      <td>0</td>\n",
              "      <td>0</td>\n",
              "      <td>-0.462094</td>\n",
              "    </tr>\n",
              "  </tbody>\n",
              "</table>\n",
              "</div>"
            ],
            "text/plain": [
              "   userID  postID  vote   t_spent  shrd  comm     score\n",
              "0       1     337    -1  0.680855     0     1 -0.195744\n",
              "1       1     787    -1  0.721710     1     1 -0.083487\n",
              "2       1     116    -1  0.762514     1     0 -0.171246\n",
              "3       1     592    -1  0.322370     0     1 -0.303289\n",
              "4       1     621     1  0.173896     1     0  0.652169\n",
              "5       1     191     1  0.654372     0     0  0.696312\n",
              "6       1     714     0  0.143644     1     1  0.243093\n",
              "7       1     883     0  0.972166     1     0  0.391650\n",
              "8       1     143     0  0.509148     1     1  0.352744\n",
              "9       1     354    -1  0.126354     0     0 -0.462094"
            ]
          },
          "metadata": {
            "tags": []
          },
          "execution_count": 7
        }
      ]
    },
    {
      "cell_type": "code",
      "metadata": {
        "id": "Usxpt1cQNaMx",
        "colab_type": "code",
        "outputId": "ab0aa429-cab8-4cef-b9eb-b603aeaa0316",
        "colab": {
          "base_uri": "https://localhost:8080/",
          "height": 318
        }
      },
      "source": [
        "print(\"Number of users:\",no_user)\n",
        "print(\"Number of posts:\",no_post)\n",
        "user.describe()"
      ],
      "execution_count": 8,
      "outputs": [
        {
          "output_type": "stream",
          "text": [
            "Number of users: 100\n",
            "Number of posts: 1000\n"
          ],
          "name": "stdout"
        },
        {
          "output_type": "execute_result",
          "data": {
            "text/html": [
              "<div>\n",
              "<style scoped>\n",
              "    .dataframe tbody tr th:only-of-type {\n",
              "        vertical-align: middle;\n",
              "    }\n",
              "\n",
              "    .dataframe tbody tr th {\n",
              "        vertical-align: top;\n",
              "    }\n",
              "\n",
              "    .dataframe thead th {\n",
              "        text-align: right;\n",
              "    }\n",
              "</style>\n",
              "<table border=\"1\" class=\"dataframe\">\n",
              "  <thead>\n",
              "    <tr style=\"text-align: right;\">\n",
              "      <th></th>\n",
              "      <th>userID</th>\n",
              "      <th>postID</th>\n",
              "      <th>vote</th>\n",
              "      <th>t_spent</th>\n",
              "      <th>shrd</th>\n",
              "      <th>comm</th>\n",
              "      <th>score</th>\n",
              "    </tr>\n",
              "  </thead>\n",
              "  <tbody>\n",
              "    <tr>\n",
              "      <th>count</th>\n",
              "      <td>10000.000000</td>\n",
              "      <td>10000.000000</td>\n",
              "      <td>10000.00000</td>\n",
              "      <td>10000.000000</td>\n",
              "      <td>10000.000000</td>\n",
              "      <td>10000.000000</td>\n",
              "      <td>10000.000000</td>\n",
              "    </tr>\n",
              "    <tr>\n",
              "      <th>mean</th>\n",
              "      <td>50.500000</td>\n",
              "      <td>505.586200</td>\n",
              "      <td>0.00460</td>\n",
              "      <td>0.507173</td>\n",
              "      <td>0.501000</td>\n",
              "      <td>0.504000</td>\n",
              "      <td>0.254952</td>\n",
              "    </tr>\n",
              "    <tr>\n",
              "      <th>std</th>\n",
              "      <td>28.867513</td>\n",
              "      <td>289.825601</td>\n",
              "      <td>0.81893</td>\n",
              "      <td>0.288886</td>\n",
              "      <td>0.500024</td>\n",
              "      <td>0.500009</td>\n",
              "      <td>0.424439</td>\n",
              "    </tr>\n",
              "    <tr>\n",
              "      <th>min</th>\n",
              "      <td>1.000000</td>\n",
              "      <td>1.000000</td>\n",
              "      <td>-1.00000</td>\n",
              "      <td>0.000068</td>\n",
              "      <td>0.000000</td>\n",
              "      <td>0.000000</td>\n",
              "      <td>-0.499648</td>\n",
              "    </tr>\n",
              "    <tr>\n",
              "      <th>25%</th>\n",
              "      <td>25.750000</td>\n",
              "      <td>257.000000</td>\n",
              "      <td>-1.00000</td>\n",
              "      <td>0.260805</td>\n",
              "      <td>0.000000</td>\n",
              "      <td>0.000000</td>\n",
              "      <td>-0.165036</td>\n",
              "    </tr>\n",
              "    <tr>\n",
              "      <th>50%</th>\n",
              "      <td>50.500000</td>\n",
              "      <td>510.000000</td>\n",
              "      <td>0.00000</td>\n",
              "      <td>0.508960</td>\n",
              "      <td>1.000000</td>\n",
              "      <td>1.000000</td>\n",
              "      <td>0.255198</td>\n",
              "    </tr>\n",
              "    <tr>\n",
              "      <th>75%</th>\n",
              "      <td>75.250000</td>\n",
              "      <td>760.000000</td>\n",
              "      <td>1.00000</td>\n",
              "      <td>0.760199</td>\n",
              "      <td>1.000000</td>\n",
              "      <td>1.000000</td>\n",
              "      <td>0.673554</td>\n",
              "    </tr>\n",
              "    <tr>\n",
              "      <th>max</th>\n",
              "      <td>100.000000</td>\n",
              "      <td>1000.000000</td>\n",
              "      <td>1.00000</td>\n",
              "      <td>0.999993</td>\n",
              "      <td>1.000000</td>\n",
              "      <td>1.000000</td>\n",
              "      <td>0.999998</td>\n",
              "    </tr>\n",
              "  </tbody>\n",
              "</table>\n",
              "</div>"
            ],
            "text/plain": [
              "             userID        postID  ...          comm         score\n",
              "count  10000.000000  10000.000000  ...  10000.000000  10000.000000\n",
              "mean      50.500000    505.586200  ...      0.504000      0.254952\n",
              "std       28.867513    289.825601  ...      0.500009      0.424439\n",
              "min        1.000000      1.000000  ...      0.000000     -0.499648\n",
              "25%       25.750000    257.000000  ...      0.000000     -0.165036\n",
              "50%       50.500000    510.000000  ...      1.000000      0.255198\n",
              "75%       75.250000    760.000000  ...      1.000000      0.673554\n",
              "max      100.000000   1000.000000  ...      1.000000      0.999998\n",
              "\n",
              "[8 rows x 7 columns]"
            ]
          },
          "metadata": {
            "tags": []
          },
          "execution_count": 8
        }
      ]
    },
    {
      "cell_type": "markdown",
      "metadata": {
        "id": "AYho5dd3d-xf",
        "colab_type": "text"
      },
      "source": [
        "Data matrix represents the score of every user along with the posts. All the post he hasn't interacted with are scored zero."
      ]
    },
    {
      "cell_type": "code",
      "metadata": {
        "id": "OKJ4GPBXOAHb",
        "colab_type": "code",
        "colab": {}
      },
      "source": [
        "data_matrix = np.zeros((no_user, no_post))\n",
        "for rows in user.itertuples():\n",
        "    data_matrix[rows[1]-1,rows[2]-1]=rows[7] "
      ],
      "execution_count": 0,
      "outputs": []
    },
    {
      "cell_type": "markdown",
      "metadata": {
        "id": "sTpHJx2OeORB",
        "colab_type": "text"
      },
      "source": [
        "post_similarity gives the similarity between two posts . If a user likes post a he is likely to like post b as well if the parameters are matching."
      ]
    },
    {
      "cell_type": "code",
      "metadata": {
        "id": "2vAejNS8TpWZ",
        "colab_type": "code",
        "colab": {}
      },
      "source": [
        "post_similarity = pairwise_distances(data_matrix.T, metric='cosine')"
      ],
      "execution_count": 0,
      "outputs": []
    },
    {
      "cell_type": "code",
      "metadata": {
        "id": "ZOIloiw5YHMo",
        "colab_type": "code",
        "colab": {}
      },
      "source": [
        "prediction = data_matrix.dot(post_similarity) / np.array([np.abs(post_similarity).sum(axis=1)])"
      ],
      "execution_count": 0,
      "outputs": []
    },
    {
      "cell_type": "code",
      "metadata": {
        "id": "hqaAS5E4YMoT",
        "colab_type": "code",
        "colab": {
          "base_uri": "https://localhost:8080/",
          "height": 134
        },
        "outputId": "bb19c9cf-e434-4cc0-9795-35fa8adbfd8b"
      },
      "source": [
        "pred = prediction.argsort()\n",
        "print(pred)"
      ],
      "execution_count": 13,
      "outputs": [
        {
          "output_type": "stream",
          "text": [
            "[[919 190  57 ... 304  93 821]\n",
            " [  0 632 672 ... 153 117 421]\n",
            " [ 99 369 588 ... 887 639 424]\n",
            " ...\n",
            " [752 449 761 ... 973 298 840]\n",
            " [ 54 637 140 ... 478 256 334]\n",
            " [550 246 508 ... 492 329 592]]\n"
          ],
          "name": "stdout"
        }
      ]
    },
    {
      "cell_type": "code",
      "metadata": {
        "id": "l2R-8V7jZMsb",
        "colab_type": "code",
        "colab": {
          "base_uri": "https://localhost:8080/",
          "height": 34
        },
        "outputId": "7946b4d2-c378-482b-cfbc-ca6087ae8816"
      },
      "source": [
        "n_post = 10   #change to get more predicted posts\n",
        "\n",
        "pred_post=np.argsort(-prediction)[:,:n_post]"
      ],
      "execution_count": 17,
      "outputs": [
        {
          "output_type": "execute_result",
          "data": {
            "text/plain": [
              "array([821,  93, 304, 874, 840, 865, 990, 548, 353, 645])"
            ]
          },
          "metadata": {
            "tags": []
          },
          "execution_count": 17
        }
      ]
    },
    {
      "cell_type": "code",
      "metadata": {
        "id": "7KdNnGci_qmB",
        "colab_type": "code",
        "colab": {}
      },
      "source": [
        "pred_item=pd.DataFrame({'user_id':[] , 'recommended_post':[]})\n",
        "\n",
        "for i in range(no_user):\n",
        "    pred_item = pred_item.append({'user_id': i+1, 'recommended_post':pred_post[i]}, ignore_index=True)\n",
        "    \n",
        "pred_item.user_id.astype='int'"
      ],
      "execution_count": 0,
      "outputs": []
    },
    {
      "cell_type": "code",
      "metadata": {
        "id": "fkvN2jAP_1D6",
        "colab_type": "code",
        "colab": {
          "base_uri": "https://localhost:8080/",
          "height": 402
        },
        "outputId": "a29a582f-6f27-44e1-8cda-b8202879b09d"
      },
      "source": [
        "pred_item"
      ],
      "execution_count": 27,
      "outputs": [
        {
          "output_type": "execute_result",
          "data": {
            "text/html": [
              "<div>\n",
              "<style scoped>\n",
              "    .dataframe tbody tr th:only-of-type {\n",
              "        vertical-align: middle;\n",
              "    }\n",
              "\n",
              "    .dataframe tbody tr th {\n",
              "        vertical-align: top;\n",
              "    }\n",
              "\n",
              "    .dataframe thead th {\n",
              "        text-align: right;\n",
              "    }\n",
              "</style>\n",
              "<table border=\"1\" class=\"dataframe\">\n",
              "  <thead>\n",
              "    <tr style=\"text-align: right;\">\n",
              "      <th></th>\n",
              "      <th>user_id</th>\n",
              "      <th>recommended_post</th>\n",
              "    </tr>\n",
              "  </thead>\n",
              "  <tbody>\n",
              "    <tr>\n",
              "      <th>0</th>\n",
              "      <td>1.0</td>\n",
              "      <td>[821, 93, 304, 874, 840, 865, 990, 548, 353, 645]</td>\n",
              "    </tr>\n",
              "    <tr>\n",
              "      <th>1</th>\n",
              "      <td>2.0</td>\n",
              "      <td>[421, 117, 153, 94, 402, 850, 912, 269, 510, 458]</td>\n",
              "    </tr>\n",
              "    <tr>\n",
              "      <th>2</th>\n",
              "      <td>3.0</td>\n",
              "      <td>[424, 639, 887, 162, 184, 833, 136, 531, 446, 74]</td>\n",
              "    </tr>\n",
              "    <tr>\n",
              "      <th>3</th>\n",
              "      <td>4.0</td>\n",
              "      <td>[991, 378, 75, 617, 431, 772, 976, 233, 291, 529]</td>\n",
              "    </tr>\n",
              "    <tr>\n",
              "      <th>4</th>\n",
              "      <td>5.0</td>\n",
              "      <td>[321, 266, 579, 188, 134, 547, 646, 519, 659, ...</td>\n",
              "    </tr>\n",
              "    <tr>\n",
              "      <th>...</th>\n",
              "      <td>...</td>\n",
              "      <td>...</td>\n",
              "    </tr>\n",
              "    <tr>\n",
              "      <th>95</th>\n",
              "      <td>96.0</td>\n",
              "      <td>[380, 472, 189, 116, 950, 526, 850, 73, 327, 262]</td>\n",
              "    </tr>\n",
              "    <tr>\n",
              "      <th>96</th>\n",
              "      <td>97.0</td>\n",
              "      <td>[856, 537, 507, 515, 651, 978, 678, 897, 404, ...</td>\n",
              "    </tr>\n",
              "    <tr>\n",
              "      <th>97</th>\n",
              "      <td>98.0</td>\n",
              "      <td>[840, 298, 973, 140, 514, 347, 256, 312, 45, 971]</td>\n",
              "    </tr>\n",
              "    <tr>\n",
              "      <th>98</th>\n",
              "      <td>99.0</td>\n",
              "      <td>[334, 256, 478, 30, 58, 202, 876, 979, 781, 363]</td>\n",
              "    </tr>\n",
              "    <tr>\n",
              "      <th>99</th>\n",
              "      <td>100.0</td>\n",
              "      <td>[592, 329, 492, 118, 128, 425, 123, 90, 74, 871]</td>\n",
              "    </tr>\n",
              "  </tbody>\n",
              "</table>\n",
              "<p>100 rows × 2 columns</p>\n",
              "</div>"
            ],
            "text/plain": [
              "    user_id                                   recommended_post\n",
              "0       1.0  [821, 93, 304, 874, 840, 865, 990, 548, 353, 645]\n",
              "1       2.0  [421, 117, 153, 94, 402, 850, 912, 269, 510, 458]\n",
              "2       3.0  [424, 639, 887, 162, 184, 833, 136, 531, 446, 74]\n",
              "3       4.0  [991, 378, 75, 617, 431, 772, 976, 233, 291, 529]\n",
              "4       5.0  [321, 266, 579, 188, 134, 547, 646, 519, 659, ...\n",
              "..      ...                                                ...\n",
              "95     96.0  [380, 472, 189, 116, 950, 526, 850, 73, 327, 262]\n",
              "96     97.0  [856, 537, 507, 515, 651, 978, 678, 897, 404, ...\n",
              "97     98.0  [840, 298, 973, 140, 514, 347, 256, 312, 45, 971]\n",
              "98     99.0   [334, 256, 478, 30, 58, 202, 876, 979, 781, 363]\n",
              "99    100.0   [592, 329, 492, 118, 128, 425, 123, 90, 74, 871]\n",
              "\n",
              "[100 rows x 2 columns]"
            ]
          },
          "metadata": {
            "tags": []
          },
          "execution_count": 27
        }
      ]
    },
    {
      "cell_type": "markdown",
      "metadata": {
        "id": "GZdlcBbvAnlh",
        "colab_type": "text"
      },
      "source": [
        "Exporting the predictions to excel"
      ]
    },
    {
      "cell_type": "code",
      "metadata": {
        "id": "kHOChPcJAPtM",
        "colab_type": "code",
        "colab": {}
      },
      "source": [
        "pred_item.to_excel(\"output.xlsx\")"
      ],
      "execution_count": 0,
      "outputs": []
    }
  ]
}